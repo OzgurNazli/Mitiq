{
 "cells": [
  {
   "cell_type": "code",
   "execution_count": 17,
   "metadata": {},
   "outputs": [],
   "source": [
    "from qiskit import *\n",
    "from qiskit import QuantumCircuit\n",
    "import numpy as np\n",
    "from numpy import linalg as la\n",
    "from qiskit import QuantumCircuit, assemble\n",
    "from qiskit_aer import Aer\n",
    "from qiskit.visualization import plot_histogram, plot_bloch_multivector\n",
    "from math import pi, sqrt\n",
    "from qiskit.visualization import plot_bloch_multivector, plot_histogram\n",
    "sim = Aer.get_backend('aer_simulator')"
   ]
  },
  {
   "cell_type": "markdown",
   "metadata": {},
   "source": [
    "⟨XX⟩=⟨ψ∣(∣00⟩⟨11∣+∣01⟩⟨10∣+∣10⟩⟨01∣+∣11⟩⟨00∣)∣ψ⟩\n",
    "\n",
    "⟨YY⟩=⟨ψ∣(∣00⟩⟨11∣−∣01⟩⟨10∣−∣10⟩⟨01∣+∣11⟩⟨00∣)∣ψ⟩ "
   ]
  },
  {
   "cell_type": "code",
   "execution_count": 18,
   "metadata": {},
   "outputs": [
    {
     "data": {
      "text/plain": [
       "<qiskit.circuit.instructionset.InstructionSet at 0x208fede86a0>"
      ]
     },
     "execution_count": 18,
     "metadata": {},
     "output_type": "execute_result"
    }
   ],
   "source": [
    "# circuit for the state Tri1\n",
    "Tri1 = QuantumCircuit(2, 2)\n",
    "# your code goes here\n",
    "\n",
    "Tri1.h(0)\n",
    "Tri1.cx(0,1)\n",
    "Tri1.draw(output=\"mpl\")\n",
    "\n",
    "\n",
    "# circuit for the state Tri2\n",
    "Tri2 = QuantumCircuit(2, 2)\n",
    "# your code goes here\n",
    "\n",
    "Tri2.h(0)\n",
    "Tri2.cx(0,1)\n",
    "Tri2.cz(0,1)\n",
    "Tri2.draw(output=\"mpl\")\n",
    "\n",
    "\n",
    "# circuit for the state Tri3\n",
    "Tri3 = QuantumCircuit(2, 2)\n",
    "# your code goes here\n",
    "\n",
    "\n",
    "Tri3.h(0)\n",
    "Tri3.x(1)\n",
    "Tri3.cx(0,1)\n",
    "\n",
    "\n",
    "# circuit for the state Sing\n",
    "Sing = QuantumCircuit(2, 2)\n",
    "# your code goes here\n",
    "Sing.h(0)\n",
    "Sing.x(1)\n",
    "Sing.cx(0,1)\n",
    "Sing.z(1)"
   ]
  },
  {
   "cell_type": "code",
   "execution_count": 19,
   "metadata": {},
   "outputs": [],
   "source": [
    "# <ZZ>\n",
    "measure_ZZ = QuantumCircuit(2)\n",
    "measure_ZZ.measure_all()\n",
    "\n",
    "# <XX>\n",
    "measure_XX = QuantumCircuit(2)\n",
    "# your code goes here\n",
    "measure_XX.h(0)\n",
    "measure_XX.h(1)\n",
    "measure_XX.measure_all()\n",
    "\n",
    "\n",
    "# <YY>\n",
    "measure_YY = QuantumCircuit(2)\n",
    "# your code goes here\n",
    "measure_YY.sdg(0)\n",
    "measure_YY.h(0)\n",
    "measure_YY.sdg(1)\n",
    "measure_YY.h(1)\n",
    "measure_YY.measure_all()"
   ]
  },
  {
   "cell_type": "code",
   "execution_count": 20,
   "metadata": {},
   "outputs": [],
   "source": [
    "shots = 2**14 # number of samples used for statistics\n",
    "\n",
    "A = 1.47e-6 #unit of A is eV\n",
    "E_sim = []\n",
    "for state_init in [Tri1,Tri2,Tri3,Sing]:\n",
    "    Energy_meas = []\n",
    "    for measure_circuit in [measure_XX, measure_YY, measure_ZZ]:\n",
    "\n",
    "        # run the circuit with the selected measurement and get the number of samples that output each bit value\n",
    "        qc = state_init.compose(measure_circuit)\n",
    "        qc_trans = transpile(qc, sim)\n",
    "        counts = sim.run(qc_trans, shots=shots).result().get_counts()\n",
    "\n",
    "        # calculate the probabilities for each computational basis\n",
    "        probs = {}\n",
    "        for output in ['00','01', '10', '11']:\n",
    "            if output in counts:\n",
    "                probs[output] = counts[output]/shots\n",
    "            else:\n",
    "                probs[output] = 0\n",
    "\n",
    "        Energy_meas.append( probs['00'] - probs['01'] - probs['10'] + probs['11'] )\n",
    "\n",
    "    E_sim.append(A * np.sum(np.array(Energy_meas)))"
   ]
  },
  {
   "cell_type": "code",
   "execution_count": 21,
   "metadata": {},
   "outputs": [
    {
     "name": "stdout",
     "output_type": "stream",
     "text": [
      "Energy expectation value of the state Tri1 : 1.470e-06 eV\n",
      "Energy expectation value of the state Tri2 : 1.470e-06 eV\n",
      "Energy expectation value of the state Tri3 : 1.470e-06 eV\n",
      "Energy expectation value of the state Sing : -4.410e-06 eV\n"
     ]
    }
   ],
   "source": [
    "# Run this cell to print out your results\n",
    "\n",
    "print('Energy expectation value of the state Tri1 : {:.3e} eV'.format(E_sim[0]))\n",
    "print('Energy expectation value of the state Tri2 : {:.3e} eV'.format(E_sim[1]))\n",
    "print('Energy expectation value of the state Tri3 : {:.3e} eV'.format(E_sim[2]))\n",
    "print('Energy expectation value of the state Sing : {:.3e} eV'.format(E_sim[3]))"
   ]
  },
  {
   "cell_type": "code",
   "execution_count": 22,
   "metadata": {},
   "outputs": [
    {
     "name": "stdout",
     "output_type": "stream",
     "text": [
      "The wavelength of the radiation from the transition in the hyperfine structure is : 21.1 cm\n"
     ]
    }
   ],
   "source": [
    "# reduced plank constant in (eV) and the speed of light(cgs units)\n",
    "hbar, c = 4.1357e-15, 3e10\n",
    "\n",
    "# energy difference between the triplets and singlet\n",
    "E_del = abs(E_sim[0] - E_sim[3])\n",
    "\n",
    "# frequency associated with the energy difference\n",
    "f = E_del/hbar\n",
    "\n",
    "# convert frequency to wavelength in (cm)\n",
    "wavelength = c/f\n",
    "\n",
    "print('The wavelength of the radiation from the transition\\\n",
    " in the hyperfine structure is : {:.1f} cm'.format(wavelength))"
   ]
  },
  {
   "cell_type": "code",
   "execution_count": null,
   "metadata": {},
   "outputs": [],
   "source": []
  }
 ],
 "metadata": {
  "kernelspec": {
   "display_name": "thesis",
   "language": "python",
   "name": "python3"
  },
  "language_info": {
   "codemirror_mode": {
    "name": "ipython",
    "version": 3
   },
   "file_extension": ".py",
   "mimetype": "text/x-python",
   "name": "python",
   "nbconvert_exporter": "python",
   "pygments_lexer": "ipython3",
   "version": "3.12.5"
  }
 },
 "nbformat": 4,
 "nbformat_minor": 2
}
