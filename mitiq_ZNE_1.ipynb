{
 "cells": [
  {
   "cell_type": "code",
   "execution_count": 2,
   "metadata": {},
   "outputs": [],
   "source": [
    "import mitiq \n",
    "import qiskit"
   ]
  },
  {
   "cell_type": "code",
   "execution_count": 3,
   "metadata": {},
   "outputs": [],
   "source": [
    "from mitiq import *"
   ]
  },
  {
   "cell_type": "code",
   "execution_count": 4,
   "metadata": {},
   "outputs": [],
   "source": [
    "from qiskit import *"
   ]
  },
  {
   "cell_type": "code",
   "execution_count": 5,
   "metadata": {},
   "outputs": [
    {
     "data": {
      "text/plain": [
       "['braket', 'cirq', 'pennylane', 'pyquil', 'qibo', 'qiskit']"
      ]
     },
     "execution_count": 5,
     "metadata": {},
     "output_type": "execute_result"
    }
   ],
   "source": [
    "mitiq.SUPPORTED_PROGRAM_TYPES.keys()"
   ]
  },
  {
   "cell_type": "code",
   "execution_count": 6,
   "metadata": {},
   "outputs": [],
   "source": [
    "frontend = \"qiskit\""
   ]
  },
  {
   "cell_type": "markdown",
   "metadata": {},
   "source": [
    "Problem Setup"
   ]
  },
  {
   "cell_type": "code",
   "execution_count": 8,
   "metadata": {},
   "outputs": [
    {
     "name": "stdout",
     "output_type": "stream",
     "text": [
      "     ┌──────────┐┌────┐┌──────────┐ ┌────┐ ┌─────────┐   ┌──────────┐   »\n",
      "q_0: ┤ Ry(-π/2) ├┤ √X ├┤ Ry(-π/2) ├─┤ √X ├─┤ Ry(π/2) ├─■─┤ Ry(-π/2) ├─■─»\n",
      "     ├──────────┤├────┤├──────────┤┌┴────┴┐└┬───────┬┘ │ ├─────────┬┘ │ »\n",
      "q_1: ┤ Ry(-π/2) ├┤ √X ├┤ Ry(-π/2) ├┤ √Xdg ├─┤ Ry(0) ├──■─┤ Ry(π/2) ├──■─»\n",
      "     └──────────┘└────┘└──────────┘└──────┘ └───────┘    └─────────┘    »\n",
      "«     ┌─────────┐    ┌─────────┐ ┌───────┐                      ┌─────────┐»\n",
      "«q_0: ┤ Ry(π/2) ├──■─┤ Ry(π/2) ├─┤ Rx(0) ├────────────────────■─┤ Ry(π/2) ├»\n",
      "«     ├─────────┴┐ │ ├─────────┤┌┴───────┴─┐┌────┐┌─────────┐ │ └──┬───┬──┘»\n",
      "«q_1: ┤ Ry(-π/2) ├─■─┤ Ry(π/2) ├┤ Ry(-π/2) ├┤ √X ├┤ Ry(π/2) ├─■────┤ Y ├───»\n",
      "«     └──────────┘   └─────────┘└──────────┘└────┘└─────────┘      └───┘   »\n",
      "«     ┌────┐┌───┐ ┌──────┐   ┌─────────┐┌────┐   ┌───┐    ┌───┐     ┌─────────┐»\n",
      "«q_0: ┤ √X ├┤ Y ├─┤ √Xdg ├─■─┤ Ry(π/2) ├┤ √X ├───┤ Y ├────┤ X ├───■─┤ Ry(π/2) ├»\n",
      "«     ├────┤├───┤┌┴──────┤ │ └──┬───┬──┘├────┤┌──┴───┴──┐┌┴───┴─┐ │ └─┬──────┬┘»\n",
      "«q_1: ┤ √X ├┤ Y ├┤ Rx(0) ├─■────┤ Y ├───┤ √X ├┤ Ry(π/2) ├┤ √Xdg ├─■───┤ √Xdg ├─»\n",
      "«     └────┘└───┘└───────┘      └───┘   └────┘└─────────┘└──────┘     └──────┘ »\n",
      "«        ┌──────┐┌──────────┐┌────┐┌──────┐┌───────┐   ┌───────┐ ┌───────┐  »\n",
      "«q_0: ─■─┤ √Xdg ├┤ Ry(-π/2) ├┤ √X ├┤ √Xdg ├┤ Ry(0) ├─■─┤ Rx(0) ├─┤ Rx(0) ├──»\n",
      "«      │ └┬────┬┘└──┬───┬───┘├───┬┘└──────┘└───────┘ │ └┬──────┤┌┴───────┴─┐»\n",
      "«q_1: ─■──┤ √X ├────┤ Y ├────┤ X ├───────────────────■──┤ √Xdg ├┤ Ry(-π/2) ├»\n",
      "«         └────┘    └───┘    └───┘                      └──────┘└──────────┘»\n",
      "«     ┌──────┐┌───────┐                      ┌─────────┐      ┌───┐    ┌────┐\n",
      "«q_0: ┤ √Xdg ├┤ Ry(0) ├────────────────────■─┤ Ry(π/2) ├─■────┤ Y ├────┤ √X ├\n",
      "«     └┬────┬┘└─┬───┬─┘┌───┐┌───┐┌───────┐ │ └─┬──────┬┘ │ ┌──┴───┴───┐└────┘\n",
      "«q_1: ─┤ √X ├───┤ Y ├──┤ X ├┤ Y ├┤ Rx(0) ├─■───┤ √Xdg ├──■─┤ Ry(-π/2) ├──────\n",
      "«      └────┘   └───┘  └───┘└───┘└───────┘     └──────┘    └──────────┘      \n"
     ]
    }
   ],
   "source": [
    "from mitiq import benchmarks\n",
    "qc1 = benchmarks.generate_rb_circuits(n_qubits = 2, num_cliffords=7, return_type = frontend)[0]\n",
    "print(qc1)"
   ]
  },
  {
   "cell_type": "markdown",
   "metadata": {},
   "source": [
    "generate_rb_circuits can only have max 2 qubits\n",
    "\n",
    "Now we crate an exacutor"
   ]
  },
  {
   "cell_type": "code",
   "execution_count": 28,
   "metadata": {},
   "outputs": [],
   "source": [
    "from mitiq.interface import convert_to_mitiq\n",
    "from mitiq.interface.mitiq_qiskit.qiskit_utils import initialized_depolarizing_noise"
   ]
  },
  {
   "cell_type": "code",
   "execution_count": 31,
   "metadata": {},
   "outputs": [],
   "source": [
    "import numpy as np\n",
    "from qiskit_aer import AerSimulator, QasmSimulator\n",
    "from qiskit_aer.noise import NoiseModel,errors\n",
    "\n",
    "# Simulate the circuit with noise\n",
    "noise_model = initialized_depolarizing_noise(noise_level=0.02)\n",
    "# Default to a simulator\n",
    "backend = QasmSimulator(noise_model=noise_model)\n",
    "\n",
    "\n",
    "def ibmq_executor(circuit: qiskit.QuantumCircuit, shots: int = 8192) -> float:\n",
    "    \"\"\"Returns the expectation value to be mitigated.\n",
    "\n",
    "    Args:\n",
    "        circuit: Circuit to run.\n",
    "        shots: Number of times to execute the circuit to compute the expectation value.\n",
    "    \"\"\"\n",
    "    # Transpile the circuit so it can be properly run\n",
    "    exec_circuit = qiskit.transpile(\n",
    "        circuit,\n",
    "        backend=backend,\n",
    "        basis_gates=noise_model.basis_gates if noise_model else None,\n",
    "        optimization_level=0, # Important to preserve folded gates.\n",
    "    )\n",
    "    \n",
    "    # Run the circuit\n",
    "    job = backend.run(exec_circuit, shots=shots)\n",
    "\n",
    "    # Convert from raw measurement counts to the expectation value\n",
    "    counts = job.result().get_counts()\n",
    "    if counts.get(\"0\") is None:\n",
    "        expectation_value = 0.\n",
    "    else:\n",
    "        expectation_value = counts.get(\"0\") / shots\n",
    "    return expectation_value  \n",
    "\n"
   ]
  },
  {
   "cell_type": "code",
   "execution_count": 25,
   "metadata": {},
   "outputs": [
    {
     "ename": "AttributeError",
     "evalue": "'Circuit' object has no attribute 'name'",
     "output_type": "error",
     "traceback": [
      "\u001b[1;31m---------------------------------------------------------------------------\u001b[0m",
      "\u001b[1;31mAttributeError\u001b[0m                            Traceback (most recent call last)",
      "Cell \u001b[1;32mIn[25], line 2\u001b[0m\n\u001b[0;32m      1\u001b[0m \u001b[38;5;66;03m# Compute the expectation value of the |0><0| observable.\u001b[39;00m\n\u001b[1;32m----> 2\u001b[0m noisy_value \u001b[38;5;241m=\u001b[39m \u001b[43mexecute\u001b[49m\u001b[43m(\u001b[49m\u001b[43mqc1\u001b[49m\u001b[43m)\u001b[49m\n\u001b[0;32m      3\u001b[0m ideal_value \u001b[38;5;241m=\u001b[39m execute(qc1, noise_level1\u001b[38;5;241m=\u001b[39m\u001b[38;5;241m0.0\u001b[39m, noise_level2\u001b[38;5;241m=\u001b[39m\u001b[38;5;241m0.0\u001b[39m)\n\u001b[0;32m      4\u001b[0m \u001b[38;5;28mprint\u001b[39m(\u001b[38;5;124mf\u001b[39m\u001b[38;5;124m\"\u001b[39m\u001b[38;5;124mError without mitigation: \u001b[39m\u001b[38;5;132;01m{\u001b[39;00m\u001b[38;5;28mabs\u001b[39m(ideal_value\u001b[38;5;250m \u001b[39m\u001b[38;5;241m-\u001b[39m\u001b[38;5;250m \u001b[39mnoisy_value)\u001b[38;5;250m \u001b[39m\u001b[38;5;132;01m:\u001b[39;00m\u001b[38;5;124m.5f\u001b[39m\u001b[38;5;132;01m}\u001b[39;00m\u001b[38;5;124m\"\u001b[39m)\n",
      "Cell \u001b[1;32mIn[24], line 20\u001b[0m, in \u001b[0;36mexecute\u001b[1;34m(circuit, noise_level1, noise_level2)\u001b[0m\n\u001b[0;32m     16\u001b[0m backend \u001b[38;5;241m=\u001b[39m AerSimulator(method\u001b[38;5;241m=\u001b[39m\u001b[38;5;124m\"\u001b[39m\u001b[38;5;124mdensity_matrix\u001b[39m\u001b[38;5;124m\"\u001b[39m,\n\u001b[0;32m     17\u001b[0m                    noise_model \u001b[38;5;241m=\u001b[39m noise_model)\n\u001b[0;32m     19\u001b[0m mitiq_circuit, _\u001b[38;5;241m=\u001b[39m convert_to_mitiq(circuit)\n\u001b[1;32m---> 20\u001b[0m transpiled_qc \u001b[38;5;241m=\u001b[39m \u001b[43mtranspile\u001b[49m\u001b[43m(\u001b[49m\u001b[43mmitiq_circuit\u001b[49m\u001b[43m,\u001b[49m\u001b[43m \u001b[49m\u001b[43mbackend\u001b[49m\u001b[43m)\u001b[49m\n\u001b[0;32m     22\u001b[0m result \u001b[38;5;241m=\u001b[39m simulator\u001b[38;5;241m.\u001b[39mrun(transpiled_qc)\u001b[38;5;241m.\u001b[39mresult()\n\u001b[0;32m     24\u001b[0m \u001b[38;5;66;03m# Step 6: Extract the final density matrix\u001b[39;00m\n",
      "File \u001b[1;32mc:\\ProgramData\\miniconda3\\envs\\thesis\\Lib\\site-packages\\qiskit\\compiler\\transpiler.py:376\u001b[0m, in \u001b[0;36mtranspile\u001b[1;34m(circuits, backend, basis_gates, inst_map, coupling_map, backend_properties, initial_layout, layout_method, routing_method, translation_method, scheduling_method, instruction_durations, dt, approximation_degree, timing_constraints, seed_transpiler, optimization_level, callback, output_name, unitary_synthesis_method, unitary_synthesis_plugin_config, target, hls_config, init_method, optimization_method, ignore_backend_supplied_default_methods, num_processes)\u001b[0m\n\u001b[0;32m    373\u001b[0m coupling_map \u001b[38;5;241m=\u001b[39m _parse_coupling_map(coupling_map, backend)\n\u001b[0;32m    374\u001b[0m approximation_degree \u001b[38;5;241m=\u001b[39m _parse_approximation_degree(approximation_degree)\n\u001b[1;32m--> 376\u001b[0m output_name \u001b[38;5;241m=\u001b[39m \u001b[43m_parse_output_name\u001b[49m\u001b[43m(\u001b[49m\u001b[43moutput_name\u001b[49m\u001b[43m,\u001b[49m\u001b[43m \u001b[49m\u001b[43mcircuits\u001b[49m\u001b[43m)\u001b[49m\n\u001b[0;32m    377\u001b[0m inst_map \u001b[38;5;241m=\u001b[39m _parse_inst_map(inst_map, backend)\n\u001b[0;32m    379\u001b[0m _check_circuits_coupling_map(circuits, coupling_map, backend)\n",
      "File \u001b[1;32mc:\\ProgramData\\miniconda3\\envs\\thesis\\Lib\\site-packages\\qiskit\\compiler\\transpiler.py:551\u001b[0m, in \u001b[0;36m_parse_output_name\u001b[1;34m(output_name, circuits)\u001b[0m\n\u001b[0;32m    546\u001b[0m         \u001b[38;5;28;01mraise\u001b[39;00m TranspilerError(\n\u001b[0;32m    547\u001b[0m             \u001b[38;5;124m\"\u001b[39m\u001b[38;5;124mThe parameter output_name should be a string or a\u001b[39m\u001b[38;5;124m\"\u001b[39m\n\u001b[0;32m    548\u001b[0m             \u001b[38;5;124m\"\u001b[39m\u001b[38;5;124mlist of strings: \u001b[39m\u001b[38;5;132;01m%s\u001b[39;00m\u001b[38;5;124m was used.\u001b[39m\u001b[38;5;124m\"\u001b[39m \u001b[38;5;241m%\u001b[39m \u001b[38;5;28mtype\u001b[39m(output_name)\n\u001b[0;32m    549\u001b[0m         )\n\u001b[0;32m    550\u001b[0m \u001b[38;5;28;01melse\u001b[39;00m:\n\u001b[1;32m--> 551\u001b[0m     \u001b[38;5;28;01mreturn\u001b[39;00m [\u001b[43mcircuit\u001b[49m\u001b[38;5;241;43m.\u001b[39;49m\u001b[43mname\u001b[49m \u001b[38;5;28;01mfor\u001b[39;00m circuit \u001b[38;5;129;01min\u001b[39;00m circuits]\n",
      "\u001b[1;31mAttributeError\u001b[0m: 'Circuit' object has no attribute 'name'"
     ]
    }
   ],
   "source": [
    "# Compute the expectation value of the |0><0| observable.\n",
    "noisy_value = execute(qc1)\n",
    "ideal_value = execute(qc1, noise_level1=0.0, noise_level2=0.0)\n",
    "print(f\"Error without mitigation: {abs(ideal_value - noisy_value) :.5f}\")"
   ]
  },
  {
   "cell_type": "code",
   "execution_count": null,
   "metadata": {},
   "outputs": [],
   "source": []
  }
 ],
 "metadata": {
  "kernelspec": {
   "display_name": "thesis",
   "language": "python",
   "name": "python3"
  },
  "language_info": {
   "codemirror_mode": {
    "name": "ipython",
    "version": 3
   },
   "file_extension": ".py",
   "mimetype": "text/x-python",
   "name": "python",
   "nbconvert_exporter": "python",
   "pygments_lexer": "ipython3",
   "version": "3.12.5"
  }
 },
 "nbformat": 4,
 "nbformat_minor": 2
}
